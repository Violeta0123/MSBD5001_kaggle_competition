{
  "nbformat": 4,
  "nbformat_minor": 0,
  "metadata": {
    "colab": {
      "name": "5001project.ipynb",
      "provenance": [],
      "collapsed_sections": []
    },
    "kernelspec": {
      "name": "python3",
      "display_name": "Python 3"
    },
    "language_info": {
      "name": "python"
    }
  },
  "cells": [
    {
      "cell_type": "code",
      "execution_count": null,
      "metadata": {
        "id": "Us6l0SZ7XMJZ"
      },
      "outputs": [],
      "source": [
        "import pandas as pd\n",
        "import numpy as np"
      ]
    },
    {
      "cell_type": "markdown",
      "source": [
        "**RandomForest**"
      ],
      "metadata": {
        "id": "7d99nlesiwY8"
      }
    },
    {
      "cell_type": "code",
      "source": [
        "data = pd.read_csv(\"/content/drive/MyDrive/5001train.csv\") # load data"
      ],
      "metadata": {
        "id": "9NXyq0wSYD91"
      },
      "execution_count": null,
      "outputs": []
    },
    {
      "cell_type": "code",
      "source": [
        "data.head()"
      ],
      "metadata": {
        "colab": {
          "base_uri": "https://localhost:8080/",
          "height": 284
        },
        "id": "EA_EMwGxZW4T",
        "outputId": "36f39a14-0482-40f6-e157-8756bbf478a7"
      },
      "execution_count": null,
      "outputs": [
        {
          "output_type": "execute_result",
          "data": {
            "text/html": [
              "\n",
              "  <div id=\"df-92762892-9648-44eb-bb14-e9c94e6da366\">\n",
              "    <div class=\"colab-df-container\">\n",
              "      <div>\n",
              "<style scoped>\n",
              "    .dataframe tbody tr th:only-of-type {\n",
              "        vertical-align: middle;\n",
              "    }\n",
              "\n",
              "    .dataframe tbody tr th {\n",
              "        vertical-align: top;\n",
              "    }\n",
              "\n",
              "    .dataframe thead th {\n",
              "        text-align: right;\n",
              "    }\n",
              "</style>\n",
              "<table border=\"1\" class=\"dataframe\">\n",
              "  <thead>\n",
              "    <tr style=\"text-align: right;\">\n",
              "      <th></th>\n",
              "      <th>id</th>\n",
              "      <th>MO HLADR+ MFI (cells/ul)</th>\n",
              "      <th>Neu CD64+MFI (cells/ul)</th>\n",
              "      <th>CD3+T (cells/ul)</th>\n",
              "      <th>CD8+T (cells/ul)</th>\n",
              "      <th>CD4+T (cells/ul)</th>\n",
              "      <th>NK (cells/ul)</th>\n",
              "      <th>CD19+ (cells/ul)</th>\n",
              "      <th>CD45+ (cells/ul)</th>\n",
              "      <th>Age</th>\n",
              "      <th>Sex 0M1F</th>\n",
              "      <th>Mono CD64+MFI (cells/ul)</th>\n",
              "      <th>label</th>\n",
              "    </tr>\n",
              "  </thead>\n",
              "  <tbody>\n",
              "    <tr>\n",
              "      <th>0</th>\n",
              "      <td>0</td>\n",
              "      <td>3556.0</td>\n",
              "      <td>2489.0</td>\n",
              "      <td>265.19</td>\n",
              "      <td>77.53</td>\n",
              "      <td>176.55</td>\n",
              "      <td>0.00</td>\n",
              "      <td>4.20</td>\n",
              "      <td>307.91</td>\n",
              "      <td>52</td>\n",
              "      <td>0</td>\n",
              "      <td>7515.0</td>\n",
              "      <td>1</td>\n",
              "    </tr>\n",
              "    <tr>\n",
              "      <th>1</th>\n",
              "      <td>1</td>\n",
              "      <td>1906.0</td>\n",
              "      <td>134.0</td>\n",
              "      <td>1442.61</td>\n",
              "      <td>551.90</td>\n",
              "      <td>876.07</td>\n",
              "      <td>112.10</td>\n",
              "      <td>168.15</td>\n",
              "      <td>1735.48</td>\n",
              "      <td>20</td>\n",
              "      <td>1</td>\n",
              "      <td>1756.0</td>\n",
              "      <td>0</td>\n",
              "    </tr>\n",
              "    <tr>\n",
              "      <th>2</th>\n",
              "      <td>2</td>\n",
              "      <td>1586.0</td>\n",
              "      <td>71.0</td>\n",
              "      <td>1332.74</td>\n",
              "      <td>684.20</td>\n",
              "      <td>655.26</td>\n",
              "      <td>244.95</td>\n",
              "      <td>216.52</td>\n",
              "      <td>1820.04</td>\n",
              "      <td>28</td>\n",
              "      <td>1</td>\n",
              "      <td>1311.0</td>\n",
              "      <td>0</td>\n",
              "    </tr>\n",
              "    <tr>\n",
              "      <th>3</th>\n",
              "      <td>3</td>\n",
              "      <td>683.0</td>\n",
              "      <td>94.0</td>\n",
              "      <td>419.23</td>\n",
              "      <td>255.80</td>\n",
              "      <td>162.17</td>\n",
              "      <td>72.05</td>\n",
              "      <td>44.68</td>\n",
              "      <td>538.22</td>\n",
              "      <td>55</td>\n",
              "      <td>1</td>\n",
              "      <td>1443.0</td>\n",
              "      <td>0</td>\n",
              "    </tr>\n",
              "    <tr>\n",
              "      <th>4</th>\n",
              "      <td>4</td>\n",
              "      <td>1032.0</td>\n",
              "      <td>71.0</td>\n",
              "      <td>1102.72</td>\n",
              "      <td>480.27</td>\n",
              "      <td>625.30</td>\n",
              "      <td>188.78</td>\n",
              "      <td>130.77</td>\n",
              "      <td>1427.97</td>\n",
              "      <td>28</td>\n",
              "      <td>1</td>\n",
              "      <td>1542.0</td>\n",
              "      <td>0</td>\n",
              "    </tr>\n",
              "  </tbody>\n",
              "</table>\n",
              "</div>\n",
              "      <button class=\"colab-df-convert\" onclick=\"convertToInteractive('df-92762892-9648-44eb-bb14-e9c94e6da366')\"\n",
              "              title=\"Convert this dataframe to an interactive table.\"\n",
              "              style=\"display:none;\">\n",
              "        \n",
              "  <svg xmlns=\"http://www.w3.org/2000/svg\" height=\"24px\"viewBox=\"0 0 24 24\"\n",
              "       width=\"24px\">\n",
              "    <path d=\"M0 0h24v24H0V0z\" fill=\"none\"/>\n",
              "    <path d=\"M18.56 5.44l.94 2.06.94-2.06 2.06-.94-2.06-.94-.94-2.06-.94 2.06-2.06.94zm-11 1L8.5 8.5l.94-2.06 2.06-.94-2.06-.94L8.5 2.5l-.94 2.06-2.06.94zm10 10l.94 2.06.94-2.06 2.06-.94-2.06-.94-.94-2.06-.94 2.06-2.06.94z\"/><path d=\"M17.41 7.96l-1.37-1.37c-.4-.4-.92-.59-1.43-.59-.52 0-1.04.2-1.43.59L10.3 9.45l-7.72 7.72c-.78.78-.78 2.05 0 2.83L4 21.41c.39.39.9.59 1.41.59.51 0 1.02-.2 1.41-.59l7.78-7.78 2.81-2.81c.8-.78.8-2.07 0-2.86zM5.41 20L4 18.59l7.72-7.72 1.47 1.35L5.41 20z\"/>\n",
              "  </svg>\n",
              "      </button>\n",
              "      \n",
              "  <style>\n",
              "    .colab-df-container {\n",
              "      display:flex;\n",
              "      flex-wrap:wrap;\n",
              "      gap: 12px;\n",
              "    }\n",
              "\n",
              "    .colab-df-convert {\n",
              "      background-color: #E8F0FE;\n",
              "      border: none;\n",
              "      border-radius: 50%;\n",
              "      cursor: pointer;\n",
              "      display: none;\n",
              "      fill: #1967D2;\n",
              "      height: 32px;\n",
              "      padding: 0 0 0 0;\n",
              "      width: 32px;\n",
              "    }\n",
              "\n",
              "    .colab-df-convert:hover {\n",
              "      background-color: #E2EBFA;\n",
              "      box-shadow: 0px 1px 2px rgba(60, 64, 67, 0.3), 0px 1px 3px 1px rgba(60, 64, 67, 0.15);\n",
              "      fill: #174EA6;\n",
              "    }\n",
              "\n",
              "    [theme=dark] .colab-df-convert {\n",
              "      background-color: #3B4455;\n",
              "      fill: #D2E3FC;\n",
              "    }\n",
              "\n",
              "    [theme=dark] .colab-df-convert:hover {\n",
              "      background-color: #434B5C;\n",
              "      box-shadow: 0px 1px 3px 1px rgba(0, 0, 0, 0.15);\n",
              "      filter: drop-shadow(0px 1px 2px rgba(0, 0, 0, 0.3));\n",
              "      fill: #FFFFFF;\n",
              "    }\n",
              "  </style>\n",
              "\n",
              "      <script>\n",
              "        const buttonEl =\n",
              "          document.querySelector('#df-92762892-9648-44eb-bb14-e9c94e6da366 button.colab-df-convert');\n",
              "        buttonEl.style.display =\n",
              "          google.colab.kernel.accessAllowed ? 'block' : 'none';\n",
              "\n",
              "        async function convertToInteractive(key) {\n",
              "          const element = document.querySelector('#df-92762892-9648-44eb-bb14-e9c94e6da366');\n",
              "          const dataTable =\n",
              "            await google.colab.kernel.invokeFunction('convertToInteractive',\n",
              "                                                     [key], {});\n",
              "          if (!dataTable) return;\n",
              "\n",
              "          const docLinkHtml = 'Like what you see? Visit the ' +\n",
              "            '<a target=\"_blank\" href=https://colab.research.google.com/notebooks/data_table.ipynb>data table notebook</a>'\n",
              "            + ' to learn more about interactive tables.';\n",
              "          element.innerHTML = '';\n",
              "          dataTable['output_type'] = 'display_data';\n",
              "          await google.colab.output.renderOutput(dataTable, element);\n",
              "          const docLink = document.createElement('div');\n",
              "          docLink.innerHTML = docLinkHtml;\n",
              "          element.appendChild(docLink);\n",
              "        }\n",
              "      </script>\n",
              "    </div>\n",
              "  </div>\n",
              "  "
            ],
            "text/plain": [
              "   id  MO HLADR+ MFI (cells/ul)  ...  Mono CD64+MFI (cells/ul)  label\n",
              "0   0                    3556.0  ...                    7515.0      1\n",
              "1   1                    1906.0  ...                    1756.0      0\n",
              "2   2                    1586.0  ...                    1311.0      0\n",
              "3   3                     683.0  ...                    1443.0      0\n",
              "4   4                    1032.0  ...                    1542.0      0\n",
              "\n",
              "[5 rows x 13 columns]"
            ]
          },
          "metadata": {},
          "execution_count": 3
        }
      ]
    },
    {
      "cell_type": "code",
      "source": [
        "data['label'].describe()"
      ],
      "metadata": {
        "colab": {
          "base_uri": "https://localhost:8080/"
        },
        "id": "Yqmgw0jcZhIb",
        "outputId": "e8ac2c73-0fdd-4122-972f-798d26e23b06"
      },
      "execution_count": null,
      "outputs": [
        {
          "output_type": "execute_result",
          "data": {
            "text/plain": [
              "count    87.000000\n",
              "mean      0.333333\n",
              "std       0.474137\n",
              "min       0.000000\n",
              "25%       0.000000\n",
              "50%       0.000000\n",
              "75%       1.000000\n",
              "max       1.000000\n",
              "Name: label, dtype: float64"
            ]
          },
          "metadata": {},
          "execution_count": 4
        }
      ]
    },
    {
      "cell_type": "code",
      "source": [
        "# preprocess\n",
        "data.dropna(inplace=True)"
      ],
      "metadata": {
        "id": "GnKvfY6mfQ6L"
      },
      "execution_count": null,
      "outputs": []
    },
    {
      "cell_type": "code",
      "source": [
        "from sklearn.model_selection import train_test_split\n",
        "X = data.iloc[:, 1:12] \n",
        "y = data.iloc[:, 12]\n",
        "X_train, X_test, y_train, y_test = train_test_split(X, y, test_size=0.2, random_state=42)"
      ],
      "metadata": {
        "id": "Uc57xSVLdQ1r"
      },
      "execution_count": null,
      "outputs": []
    },
    {
      "cell_type": "code",
      "source": [
        "from sklearn.ensemble import RandomForestClassifier\n",
        "from sklearn.datasets import make_classification\n",
        "# train\n",
        "clf = RandomForestClassifier(n_estimators=20, max_depth=8, random_state=0, class_weight=\"balanced\", criterion='entropy')\n",
        "clf.fit(X_train, y_train)"
      ],
      "metadata": {
        "colab": {
          "base_uri": "https://localhost:8080/"
        },
        "id": "L5yGbxdqdI6y",
        "outputId": "60caf330-9dcd-41af-bbab-a134c3004445"
      },
      "execution_count": null,
      "outputs": [
        {
          "output_type": "execute_result",
          "data": {
            "text/plain": [
              "RandomForestClassifier(class_weight='balanced', criterion='entropy',\n",
              "                       max_depth=8, n_estimators=20, random_state=0)"
            ]
          },
          "metadata": {},
          "execution_count": 13
        }
      ]
    },
    {
      "cell_type": "code",
      "source": [
        "from sklearn.metrics import accuracy_score\n",
        "# predict and evaluation\n",
        "y_predict = clf.predict(X_test)\n",
        "print(accuracy_score(y_predict, y_test))"
      ],
      "metadata": {
        "colab": {
          "base_uri": "https://localhost:8080/"
        },
        "id": "4FYFMeWxfwJM",
        "outputId": "a037b156-03f2-4ad6-e5a8-0f33c68564ad"
      },
      "execution_count": null,
      "outputs": [
        {
          "output_type": "stream",
          "name": "stdout",
          "text": [
            "0.9444444444444444\n"
          ]
        }
      ]
    },
    {
      "cell_type": "code",
      "source": [
        "test_data = pd.read_csv(\"/content/drive/MyDrive/5001test.csv\")\n",
        "test_data.head()\n",
        "test_x = test_data.iloc[:, 1:] # 共十一个标签"
      ],
      "metadata": {
        "id": "kcqqSoC-tdYX"
      },
      "execution_count": null,
      "outputs": []
    },
    {
      "cell_type": "code",
      "source": [
        "result = pd.DataFrame(clf.predict(test_x))"
      ],
      "metadata": {
        "id": "fptD27aZuYwK"
      },
      "execution_count": null,
      "outputs": []
    },
    {
      "cell_type": "code",
      "source": [
        "id = pd.DataFrame(np.arange(0, result.size))"
      ],
      "metadata": {
        "id": "HZ1KlvMTuxxL"
      },
      "execution_count": null,
      "outputs": []
    },
    {
      "cell_type": "code",
      "source": [
        "submission = pd.concat([id, result],axis=1)\n",
        "submission.columns=['id', 'label']"
      ],
      "metadata": {
        "id": "WFzjkX40umK1"
      },
      "execution_count": null,
      "outputs": []
    },
    {
      "cell_type": "code",
      "source": [
        "submission.to_csv('/content/drive/MyDrive/5001submission.csv',index=False)"
      ],
      "metadata": {
        "id": "LwSPOS5awlZC"
      },
      "execution_count": null,
      "outputs": []
    },
    {
      "cell_type": "code",
      "source": [
        "# save model\n",
        "from joblib import dump, load\n",
        "dump(clf, '/content/drive/MyDrive/5001model.joblib') "
      ],
      "metadata": {
        "colab": {
          "base_uri": "https://localhost:8080/"
        },
        "id": "Bx_gB-X7yK_B",
        "outputId": "39e31b90-2132-4bd9-d10f-aaf83ca48eda"
      },
      "execution_count": null,
      "outputs": [
        {
          "output_type": "execute_result",
          "data": {
            "text/plain": [
              "['/content/drive/MyDrive/5001model.joblib']"
            ]
          },
          "metadata": {},
          "execution_count": 42
        }
      ]
    },
    {
      "cell_type": "code",
      "source": [
        "# load model \n",
        "clf = load('/content/drive/MyDrive/5001model.joblib') "
      ],
      "metadata": {
        "id": "BIFT95zKy87L"
      },
      "execution_count": null,
      "outputs": []
    },
    {
      "cell_type": "code",
      "source": [
        "clf.predict(X)"
      ],
      "metadata": {
        "id": "E7N_46LLy_S4",
        "outputId": "18c4e0cc-aeed-499a-aed2-3badb980e8c8",
        "colab": {
          "base_uri": "https://localhost:8080/"
        }
      },
      "execution_count": null,
      "outputs": [
        {
          "output_type": "execute_result",
          "data": {
            "text/plain": [
              "array([1, 0, 0, 0, 0, 1, 0, 0, 0, 0, 1, 0, 0, 0, 1, 0, 0, 1, 0, 1, 1, 1,\n",
              "       0, 1, 0, 1, 1, 0, 0, 1, 0, 0, 0, 1, 0, 1, 0, 1, 1, 0, 0, 0, 0, 0,\n",
              "       0, 0, 0, 0, 1, 0, 0, 0, 0, 1, 1, 1, 1, 0, 0, 0, 0, 0, 0, 1, 0, 0,\n",
              "       1, 0, 0, 0, 0, 0, 0, 1, 0, 1, 0, 0, 0, 0, 0, 0, 0, 1, 1, 1])"
            ]
          },
          "metadata": {},
          "execution_count": 44
        }
      ]
    }
  ]
}